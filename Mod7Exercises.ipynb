{
 "cells": [
  {
   "cell_type": "markdown",
   "metadata": {},
   "source": [
    "# Module 7 Exercises - Linear Regression"
   ]
  },
  {
   "cell_type": "markdown",
   "metadata": {},
   "source": [
    "### Exercise 1:\n",
    "\n",
    "Using the pandas library, in the datasets folder load the gradedata.csv file as a dataframe. Narrow your data (make the dataframe smaller) by choosing columns that you think can help predict student grades. Use any method that you've learned so far to help your decision on which columns to keep. "
   ]
  },
  {
   "cell_type": "code",
   "execution_count": 28,
   "metadata": {},
   "outputs": [],
   "source": [
    "import pandas as pd\n",
    "import numpy as np\n",
    "from sklearn.linear_model import LinearRegression\n",
    "import matplotlib.pyplot as plt\n",
    "import sklearn #library for predictive modeling\n",
    "\n",
    "%matplotlib inline"
   ]
  },
  {
   "cell_type": "code",
   "execution_count": 29,
   "metadata": {},
   "outputs": [
    {
     "data": {
      "text/plain": [
       "Index(['fname', 'lname', 'gender', 'age', 'exercise', 'hours', 'grade',\n",
       "       'address'],\n",
       "      dtype='object')"
      ]
     },
     "execution_count": 29,
     "metadata": {},
     "output_type": "execute_result"
    }
   ],
   "source": [
    "location = \"datasets/gradedata.csv\"\n",
    "df = pd.read_csv(location)\n",
    "df.columns"
   ]
  },
  {
   "cell_type": "code",
   "execution_count": 30,
   "metadata": {},
   "outputs": [
    {
     "data": {
      "text/html": [
       "<div>\n",
       "<style scoped>\n",
       "    .dataframe tbody tr th:only-of-type {\n",
       "        vertical-align: middle;\n",
       "    }\n",
       "\n",
       "    .dataframe tbody tr th {\n",
       "        vertical-align: top;\n",
       "    }\n",
       "\n",
       "    .dataframe thead th {\n",
       "        text-align: right;\n",
       "    }\n",
       "</style>\n",
       "<table border=\"1\" class=\"dataframe\">\n",
       "  <thead>\n",
       "    <tr style=\"text-align: right;\">\n",
       "      <th></th>\n",
       "      <th>age</th>\n",
       "      <th>exercise</th>\n",
       "      <th>hours</th>\n",
       "      <th>grade</th>\n",
       "    </tr>\n",
       "  </thead>\n",
       "  <tbody>\n",
       "    <tr>\n",
       "      <th>count</th>\n",
       "      <td>2000.000000</td>\n",
       "      <td>2000.000000</td>\n",
       "      <td>2000.000000</td>\n",
       "      <td>2000.000000</td>\n",
       "    </tr>\n",
       "    <tr>\n",
       "      <th>mean</th>\n",
       "      <td>16.578500</td>\n",
       "      <td>3.000500</td>\n",
       "      <td>10.988500</td>\n",
       "      <td>82.556050</td>\n",
       "    </tr>\n",
       "    <tr>\n",
       "      <th>std</th>\n",
       "      <td>1.696254</td>\n",
       "      <td>1.423205</td>\n",
       "      <td>4.063942</td>\n",
       "      <td>9.747593</td>\n",
       "    </tr>\n",
       "    <tr>\n",
       "      <th>min</th>\n",
       "      <td>14.000000</td>\n",
       "      <td>0.000000</td>\n",
       "      <td>0.000000</td>\n",
       "      <td>32.000000</td>\n",
       "    </tr>\n",
       "    <tr>\n",
       "      <th>25%</th>\n",
       "      <td>15.000000</td>\n",
       "      <td>2.000000</td>\n",
       "      <td>8.000000</td>\n",
       "      <td>75.575000</td>\n",
       "    </tr>\n",
       "    <tr>\n",
       "      <th>50%</th>\n",
       "      <td>17.000000</td>\n",
       "      <td>3.000000</td>\n",
       "      <td>11.000000</td>\n",
       "      <td>82.700000</td>\n",
       "    </tr>\n",
       "    <tr>\n",
       "      <th>75%</th>\n",
       "      <td>18.000000</td>\n",
       "      <td>4.000000</td>\n",
       "      <td>14.000000</td>\n",
       "      <td>89.700000</td>\n",
       "    </tr>\n",
       "    <tr>\n",
       "      <th>max</th>\n",
       "      <td>19.000000</td>\n",
       "      <td>5.000000</td>\n",
       "      <td>20.000000</td>\n",
       "      <td>100.000000</td>\n",
       "    </tr>\n",
       "  </tbody>\n",
       "</table>\n",
       "</div>"
      ],
      "text/plain": [
       "               age     exercise        hours        grade\n",
       "count  2000.000000  2000.000000  2000.000000  2000.000000\n",
       "mean     16.578500     3.000500    10.988500    82.556050\n",
       "std       1.696254     1.423205     4.063942     9.747593\n",
       "min      14.000000     0.000000     0.000000    32.000000\n",
       "25%      15.000000     2.000000     8.000000    75.575000\n",
       "50%      17.000000     3.000000    11.000000    82.700000\n",
       "75%      18.000000     4.000000    14.000000    89.700000\n",
       "max      19.000000     5.000000    20.000000   100.000000"
      ]
     },
     "execution_count": 30,
     "metadata": {},
     "output_type": "execute_result"
    }
   ],
   "source": [
    "narrow = df.drop(['fname','lname','address'], axis = 1)\n",
    "narrow.shape\n",
    "narrow.describe()"
   ]
  },
  {
   "cell_type": "code",
   "execution_count": 31,
   "metadata": {
    "scrolled": true
   },
   "outputs": [
    {
     "data": {
      "text/plain": [
       "53.313272248856"
      ]
     },
     "execution_count": 31,
     "metadata": {},
     "output_type": "execute_result"
    }
   ],
   "source": [
    "narrow['grade'].mean() - 3*narrow['grade'].std()"
   ]
  },
  {
   "cell_type": "code",
   "execution_count": 32,
   "metadata": {},
   "outputs": [],
   "source": [
    "narrow = narrow[narrow['grade']>=53.31]"
   ]
  },
  {
   "cell_type": "markdown",
   "metadata": {},
   "source": [
    "### Exercise 2:\n",
    "\n",
    "Using the dataframe in the exercise above, clean and prepare your data. This means to eliminate any null (missing) values (either by dropping or filling them) and to transform any data column types to numerical values that a model can interpret. For example, if the column has string values, convert them to integers that best represent their order."
   ]
  },
  {
   "cell_type": "code",
   "execution_count": 33,
   "metadata": {},
   "outputs": [],
   "source": [
    "#narrow.drop_duplicates(inplace = True)\n",
    "#narrow.shape"
   ]
  },
  {
   "cell_type": "code",
   "execution_count": 34,
   "metadata": {},
   "outputs": [],
   "source": [
    "#narrow.dropna(axis = 0, how = 'all', inplace = True)\n",
    "#narrow.shape"
   ]
  },
  {
   "cell_type": "code",
   "execution_count": 35,
   "metadata": {},
   "outputs": [
    {
     "data": {
      "text/plain": [
       "gender       object\n",
       "age           int64\n",
       "exercise      int64\n",
       "hours         int64\n",
       "grade       float64\n",
       "dtype: object"
      ]
     },
     "execution_count": 35,
     "metadata": {},
     "output_type": "execute_result"
    }
   ],
   "source": [
    "narrow.dtypes"
   ]
  },
  {
   "cell_type": "code",
   "execution_count": 36,
   "metadata": {},
   "outputs": [
    {
     "data": {
      "text/plain": [
       "gender       object\n",
       "age           int64\n",
       "exercise      int64\n",
       "hours         int64\n",
       "grade       float64\n",
       "dtype: object"
      ]
     },
     "execution_count": 36,
     "metadata": {},
     "output_type": "execute_result"
    }
   ],
   "source": [
    "# force grade into numerical and if not numerical then delete entry\n",
    "narrow['grade'] = pd.to_numeric(narrow['grade'], errors = 'coerce')\n",
    "narrow.dtypes"
   ]
  },
  {
   "cell_type": "code",
   "execution_count": 37,
   "metadata": {},
   "outputs": [
    {
     "data": {
      "text/html": [
       "<div>\n",
       "<style scoped>\n",
       "    .dataframe tbody tr th:only-of-type {\n",
       "        vertical-align: middle;\n",
       "    }\n",
       "\n",
       "    .dataframe tbody tr th {\n",
       "        vertical-align: top;\n",
       "    }\n",
       "\n",
       "    .dataframe thead th {\n",
       "        text-align: right;\n",
       "    }\n",
       "</style>\n",
       "<table border=\"1\" class=\"dataframe\">\n",
       "  <thead>\n",
       "    <tr style=\"text-align: right;\">\n",
       "      <th></th>\n",
       "      <th>gender</th>\n",
       "      <th>age</th>\n",
       "      <th>exercise</th>\n",
       "      <th>hours</th>\n",
       "      <th>grade</th>\n",
       "    </tr>\n",
       "  </thead>\n",
       "  <tbody>\n",
       "    <tr>\n",
       "      <th>0</th>\n",
       "      <td>1</td>\n",
       "      <td>17</td>\n",
       "      <td>3</td>\n",
       "      <td>10</td>\n",
       "      <td>82.4</td>\n",
       "    </tr>\n",
       "    <tr>\n",
       "      <th>1</th>\n",
       "      <td>0</td>\n",
       "      <td>18</td>\n",
       "      <td>4</td>\n",
       "      <td>4</td>\n",
       "      <td>78.2</td>\n",
       "    </tr>\n",
       "    <tr>\n",
       "      <th>2</th>\n",
       "      <td>0</td>\n",
       "      <td>18</td>\n",
       "      <td>5</td>\n",
       "      <td>9</td>\n",
       "      <td>79.3</td>\n",
       "    </tr>\n",
       "    <tr>\n",
       "      <th>3</th>\n",
       "      <td>1</td>\n",
       "      <td>14</td>\n",
       "      <td>2</td>\n",
       "      <td>7</td>\n",
       "      <td>83.2</td>\n",
       "    </tr>\n",
       "    <tr>\n",
       "      <th>4</th>\n",
       "      <td>1</td>\n",
       "      <td>18</td>\n",
       "      <td>4</td>\n",
       "      <td>15</td>\n",
       "      <td>87.4</td>\n",
       "    </tr>\n",
       "  </tbody>\n",
       "</table>\n",
       "</div>"
      ],
      "text/plain": [
       "   gender  age  exercise  hours  grade\n",
       "0       1   17         3     10   82.4\n",
       "1       0   18         4      4   78.2\n",
       "2       0   18         5      9   79.3\n",
       "3       1   14         2      7   83.2\n",
       "4       1   18         4     15   87.4"
      ]
     },
     "execution_count": 37,
     "metadata": {},
     "output_type": "execute_result"
    }
   ],
   "source": [
    "# classify gender: male = 0, female = 1\n",
    "narrow['gender'] = pd.Series(np.where(narrow['gender'].values == 'female', 1, 0),\n",
    "          narrow.index)\n",
    "narrow.head()"
   ]
  },
  {
   "cell_type": "code",
   "execution_count": 39,
   "metadata": {},
   "outputs": [],
   "source": [
    "#clean = narrow.dropna(axis = 0, how = 'any')\n",
    "clean.shape\n",
    "clean = narrow"
   ]
  },
  {
   "cell_type": "markdown",
   "metadata": {},
   "source": [
    "### Exercise 3:\n",
    "\n",
    "Using the cleaned dataframe in the exercise above, use the sklearn library to split the data into training and test datasets. Make the test size 30%."
   ]
  },
  {
   "cell_type": "code",
   "execution_count": 40,
   "metadata": {},
   "outputs": [
    {
     "name": "stdout",
     "output_type": "stream",
     "text": [
      "(1398, 4)\n",
      "(600, 4)\n",
      "(1398,)\n",
      "(600,)\n"
     ]
    }
   ],
   "source": [
    "# assign predictive features (variables) to dataframe\n",
    "X = clean.drop('grade', axis = 1)\n",
    "\n",
    "X_train, X_test, Y_train, Y_test = sklearn.model_selection.train_test_split(\n",
    "    X, clean['grade'], test_size=0.30, random_state = 5)\n",
    "print(X_train.shape)\n",
    "print(X_test.shape)\n",
    "print(Y_train.shape)\n",
    "print(Y_test.shape)"
   ]
  },
  {
   "cell_type": "markdown",
   "metadata": {},
   "source": [
    "### Exercise 4:\n",
    "\n",
    "Using the training data from the previous exercise, set a linear regression function to fit the data (build the model)."
   ]
  },
  {
   "cell_type": "code",
   "execution_count": 41,
   "metadata": {},
   "outputs": [
    {
     "data": {
      "text/plain": [
       "LinearRegression(copy_X=True, fit_intercept=True, n_jobs=None,\n",
       "         normalize=False)"
      ]
     },
     "execution_count": 41,
     "metadata": {},
     "output_type": "execute_result"
    }
   ],
   "source": [
    "lm = LinearRegression()\n",
    "lm"
   ]
  },
  {
   "cell_type": "code",
   "execution_count": 42,
   "metadata": {
    "scrolled": true
   },
   "outputs": [
    {
     "data": {
      "text/plain": [
       "LinearRegression(copy_X=True, fit_intercept=True, n_jobs=None,\n",
       "         normalize=False)"
      ]
     },
     "execution_count": 42,
     "metadata": {},
     "output_type": "execute_result"
    }
   ],
   "source": [
    "lm.fit(X_train, Y_train)"
   ]
  },
  {
   "cell_type": "code",
   "execution_count": 53,
   "metadata": {},
   "outputs": [
    {
     "data": {
      "image/png": "[encoded data removed]",
      "text/plain": [
       "<Figure size 432x288 with 1 Axes>"
      ]
     },
     "metadata": {
      "needs_background": "light"
     },
     "output_type": "display_data"
    }
   ],
   "source": [
    "#visual comparison between the true price of a house and the price the model predicted\n",
    "plt.scatter(clean['grade'], lm.predict(X))\n",
    "plt.xlabel(\"Grade\")\n",
    "plt.ylabel(\"PredictedGrade\")\n",
    "plt.show()"
   ]
  },
  {
   "cell_type": "markdown",
   "metadata": {},
   "source": [
    "### Exercise 5:\n",
    "\n",
    "What is the intercept coefficient (y-intercept) for the linear regression model?"
   ]
  },
  {
   "cell_type": "code",
   "execution_count": 43,
   "metadata": {},
   "outputs": [
    {
     "data": {
      "text/plain": [
       "56.31360736702681"
      ]
     },
     "execution_count": 43,
     "metadata": {},
     "output_type": "execute_result"
    }
   ],
   "source": [
    "lm.intercept_"
   ]
  },
  {
   "cell_type": "code",
   "execution_count": 44,
   "metadata": {},
   "outputs": [
    {
     "data": {
      "text/html": [
       "<table class=\"simpletable\">\n",
       "<caption>OLS Regression Results</caption>\n",
       "<tr>\n",
       "  <th>Dep. Variable:</th>          <td>grade</td>      <th>  R-squared:         </th> <td>   0.680</td> \n",
       "</tr>\n",
       "<tr>\n",
       "  <th>Model:</th>                   <td>OLS</td>       <th>  Adj. R-squared:    </th> <td>   0.679</td> \n",
       "</tr>\n",
       "<tr>\n",
       "  <th>Method:</th>             <td>Least Squares</td>  <th>  F-statistic:       </th> <td>   1057.</td> \n",
       "</tr>\n",
       "<tr>\n",
       "  <th>Date:</th>             <td>Sat, 13 Jul 2019</td> <th>  Prob (F-statistic):</th>  <td>  0.00</td>  \n",
       "</tr>\n",
       "<tr>\n",
       "  <th>Time:</th>                 <td>12:29:10</td>     <th>  Log-Likelihood:    </th> <td> -6226.0</td> \n",
       "</tr>\n",
       "<tr>\n",
       "  <th>No. Observations:</th>      <td>  1998</td>      <th>  AIC:               </th> <td>1.246e+04</td>\n",
       "</tr>\n",
       "<tr>\n",
       "  <th>Df Residuals:</th>          <td>  1993</td>      <th>  BIC:               </th> <td>1.249e+04</td>\n",
       "</tr>\n",
       "<tr>\n",
       "  <th>Df Model:</th>              <td>     4</td>      <th>                     </th>     <td> </td>    \n",
       "</tr>\n",
       "<tr>\n",
       "  <th>Covariance Type:</th>      <td>nonrobust</td>    <th>                     </th>     <td> </td>    \n",
       "</tr>\n",
       "</table>\n",
       "<table class=\"simpletable\">\n",
       "<tr>\n",
       "      <td></td>         <th>coef</th>     <th>std err</th>      <th>t</th>      <th>P>|t|</th>  <th>[0.025</th>    <th>0.975]</th>  \n",
       "</tr>\n",
       "<tr>\n",
       "  <th>Intercept</th> <td>   57.0581</td> <td>    1.284</td> <td>   44.433</td> <td> 0.000</td> <td>   54.540</td> <td>   59.576</td>\n",
       "</tr>\n",
       "<tr>\n",
       "  <th>gender</th>    <td>    0.4850</td> <td>    0.245</td> <td>    1.982</td> <td> 0.048</td> <td>    0.005</td> <td>    0.965</td>\n",
       "</tr>\n",
       "<tr>\n",
       "  <th>age</th>       <td>    0.0764</td> <td>    0.072</td> <td>    1.059</td> <td> 0.290</td> <td>   -0.065</td> <td>    0.218</td>\n",
       "</tr>\n",
       "<tr>\n",
       "  <th>exercise</th>  <td>    0.9751</td> <td>    0.086</td> <td>   11.341</td> <td> 0.000</td> <td>    0.807</td> <td>    1.144</td>\n",
       "</tr>\n",
       "<tr>\n",
       "  <th>hours</th>     <td>    1.9207</td> <td>    0.030</td> <td>   63.736</td> <td> 0.000</td> <td>    1.862</td> <td>    1.980</td>\n",
       "</tr>\n",
       "</table>\n",
       "<table class=\"simpletable\">\n",
       "<tr>\n",
       "  <th>Omnibus:</th>       <td>467.863</td> <th>  Durbin-Watson:     </th> <td>   2.070</td>\n",
       "</tr>\n",
       "<tr>\n",
       "  <th>Prob(Omnibus):</th> <td> 0.000</td>  <th>  Jarque-Bera (JB):  </th> <td>  85.653</td>\n",
       "</tr>\n",
       "<tr>\n",
       "  <th>Skew:</th>          <td> 0.045</td>  <th>  Prob(JB):          </th> <td>2.52e-19</td>\n",
       "</tr>\n",
       "<tr>\n",
       "  <th>Kurtosis:</th>      <td> 1.990</td>  <th>  Cond. No.          </th> <td>    214.</td>\n",
       "</tr>\n",
       "</table><br/><br/>Warnings:<br/>[1] Standard Errors assume that the covariance matrix of the errors is correctly specified."
      ],
      "text/plain": [
       "<class 'statsmodels.iolib.summary.Summary'>\n",
       "\"\"\"\n",
       "                            OLS Regression Results                            \n",
       "==============================================================================\n",
       "Dep. Variable:                  grade   R-squared:                       0.680\n",
       "Model:                            OLS   Adj. R-squared:                  0.679\n",
       "Method:                 Least Squares   F-statistic:                     1057.\n",
       "Date:                Sat, 13 Jul 2019   Prob (F-statistic):               0.00\n",
       "Time:                        12:29:10   Log-Likelihood:                -6226.0\n",
       "No. Observations:                1998   AIC:                         1.246e+04\n",
       "Df Residuals:                    1993   BIC:                         1.249e+04\n",
       "Df Model:                           4                                         \n",
       "Covariance Type:            nonrobust                                         \n",
       "==============================================================================\n",
       "                 coef    std err          t      P>|t|      [0.025      0.975]\n",
       "------------------------------------------------------------------------------\n",
       "Intercept     57.0581      1.284     44.433      0.000      54.540      59.576\n",
       "gender         0.4850      0.245      1.982      0.048       0.005       0.965\n",
       "age            0.0764      0.072      1.059      0.290      -0.065       0.218\n",
       "exercise       0.9751      0.086     11.341      0.000       0.807       1.144\n",
       "hours          1.9207      0.030     63.736      0.000       1.862       1.980\n",
       "==============================================================================\n",
       "Omnibus:                      467.863   Durbin-Watson:                   2.070\n",
       "Prob(Omnibus):                  0.000   Jarque-Bera (JB):               85.653\n",
       "Skew:                           0.045   Prob(JB):                     2.52e-19\n",
       "Kurtosis:                       1.990   Cond. No.                         214.\n",
       "==============================================================================\n",
       "\n",
       "Warnings:\n",
       "[1] Standard Errors assume that the covariance matrix of the errors is correctly specified.\n",
       "\"\"\""
      ]
     },
     "execution_count": 44,
     "metadata": {},
     "output_type": "execute_result"
    }
   ],
   "source": [
    "import statsmodels.formula.api as smf\n",
    "res = smf.ols('grade ~ gender + age + exercise + hours', data=clean).fit()\n",
    "res.summary()"
   ]
  },
  {
   "cell_type": "code",
   "execution_count": 45,
   "metadata": {},
   "outputs": [
    {
     "data": {
      "text/html": [
       "<table class=\"simpletable\">\n",
       "<caption>OLS Regression Results</caption>\n",
       "<tr>\n",
       "  <th>Dep. Variable:</th>          <td>grade</td>      <th>  R-squared:         </th> <td>   0.664</td> \n",
       "</tr>\n",
       "<tr>\n",
       "  <th>Model:</th>                   <td>OLS</td>       <th>  Adj. R-squared:    </th> <td>   0.664</td> \n",
       "</tr>\n",
       "<tr>\n",
       "  <th>Method:</th>             <td>Least Squares</td>  <th>  F-statistic:       </th> <td>   1973.</td> \n",
       "</tr>\n",
       "<tr>\n",
       "  <th>Date:</th>             <td>Sat, 13 Jul 2019</td> <th>  Prob (F-statistic):</th>  <td>  0.00</td>  \n",
       "</tr>\n",
       "<tr>\n",
       "  <th>Time:</th>                 <td>12:29:12</td>     <th>  Log-Likelihood:    </th> <td> -6300.8</td> \n",
       "</tr>\n",
       "<tr>\n",
       "  <th>No. Observations:</th>      <td>  2000</td>      <th>  AIC:               </th> <td>1.261e+04</td>\n",
       "</tr>\n",
       "<tr>\n",
       "  <th>Df Residuals:</th>          <td>  1997</td>      <th>  BIC:               </th> <td>1.262e+04</td>\n",
       "</tr>\n",
       "<tr>\n",
       "  <th>Df Model:</th>              <td>     2</td>      <th>                     </th>     <td> </td>    \n",
       "</tr>\n",
       "<tr>\n",
       "  <th>Covariance Type:</th>      <td>nonrobust</td>    <th>                     </th>     <td> </td>    \n",
       "</tr>\n",
       "</table>\n",
       "<table class=\"simpletable\">\n",
       "<tr>\n",
       "      <td></td>         <th>coef</th>     <th>std err</th>      <th>t</th>      <th>P>|t|</th>  <th>[0.025</th>    <th>0.975]</th>  \n",
       "</tr>\n",
       "<tr>\n",
       "  <th>Intercept</th> <td>   58.5316</td> <td>    0.447</td> <td>  130.828</td> <td> 0.000</td> <td>   57.654</td> <td>   59.409</td>\n",
       "</tr>\n",
       "<tr>\n",
       "  <th>exercise</th>  <td>    0.9892</td> <td>    0.089</td> <td>   11.131</td> <td> 0.000</td> <td>    0.815</td> <td>    1.163</td>\n",
       "</tr>\n",
       "<tr>\n",
       "  <th>hours</th>     <td>    1.9162</td> <td>    0.031</td> <td>   61.575</td> <td> 0.000</td> <td>    1.855</td> <td>    1.977</td>\n",
       "</tr>\n",
       "</table>\n",
       "<table class=\"simpletable\">\n",
       "<tr>\n",
       "  <th>Omnibus:</th>       <td>318.721</td> <th>  Durbin-Watson:     </th> <td>   2.048</td>\n",
       "</tr>\n",
       "<tr>\n",
       "  <th>Prob(Omnibus):</th> <td> 0.000</td>  <th>  Jarque-Bera (JB):  </th> <td>2158.000</td>\n",
       "</tr>\n",
       "<tr>\n",
       "  <th>Skew:</th>          <td>-0.564</td>  <th>  Prob(JB):          </th> <td>    0.00</td>\n",
       "</tr>\n",
       "<tr>\n",
       "  <th>Kurtosis:</th>      <td> 7.962</td>  <th>  Cond. No.          </th> <td>    43.2</td>\n",
       "</tr>\n",
       "</table><br/><br/>Warnings:<br/>[1] Standard Errors assume that the covariance matrix of the errors is correctly specified."
      ],
      "text/plain": [
       "<class 'statsmodels.iolib.summary.Summary'>\n",
       "\"\"\"\n",
       "                            OLS Regression Results                            \n",
       "==============================================================================\n",
       "Dep. Variable:                  grade   R-squared:                       0.664\n",
       "Model:                            OLS   Adj. R-squared:                  0.664\n",
       "Method:                 Least Squares   F-statistic:                     1973.\n",
       "Date:                Sat, 13 Jul 2019   Prob (F-statistic):               0.00\n",
       "Time:                        12:29:12   Log-Likelihood:                -6300.8\n",
       "No. Observations:                2000   AIC:                         1.261e+04\n",
       "Df Residuals:                    1997   BIC:                         1.262e+04\n",
       "Df Model:                           2                                         \n",
       "Covariance Type:            nonrobust                                         \n",
       "==============================================================================\n",
       "                 coef    std err          t      P>|t|      [0.025      0.975]\n",
       "------------------------------------------------------------------------------\n",
       "Intercept     58.5316      0.447    130.828      0.000      57.654      59.409\n",
       "exercise       0.9892      0.089     11.131      0.000       0.815       1.163\n",
       "hours          1.9162      0.031     61.575      0.000       1.855       1.977\n",
       "==============================================================================\n",
       "Omnibus:                      318.721   Durbin-Watson:                   2.048\n",
       "Prob(Omnibus):                  0.000   Jarque-Bera (JB):             2158.000\n",
       "Skew:                          -0.564   Prob(JB):                         0.00\n",
       "Kurtosis:                       7.962   Cond. No.                         43.2\n",
       "==============================================================================\n",
       "\n",
       "Warnings:\n",
       "[1] Standard Errors assume that the covariance matrix of the errors is correctly specified.\n",
       "\"\"\""
      ]
     },
     "execution_count": 45,
     "metadata": {},
     "output_type": "execute_result"
    }
   ],
   "source": [
    "# age P>abs(t) is 0.595, so we'll remove it as well as gender\n",
    "res = smf.ols('grade ~ exercise + hours', data=df).fit()\n",
    "res.summary()"
   ]
  },
  {
   "cell_type": "code",
   "execution_count": 46,
   "metadata": {},
   "outputs": [
    {
     "data": {
      "text/html": [
       "<table class=\"simpletable\">\n",
       "<caption>OLS Regression Results</caption>\n",
       "<tr>\n",
       "  <th>Dep. Variable:</th>          <td>grade</td>      <th>  R-squared:         </th> <td>   0.956</td> \n",
       "</tr>\n",
       "<tr>\n",
       "  <th>Model:</th>                   <td>OLS</td>       <th>  Adj. R-squared:    </th> <td>   0.956</td> \n",
       "</tr>\n",
       "<tr>\n",
       "  <th>Method:</th>             <td>Least Squares</td>  <th>  F-statistic:       </th> <td>2.160e+04</td>\n",
       "</tr>\n",
       "<tr>\n",
       "  <th>Date:</th>             <td>Sat, 13 Jul 2019</td> <th>  Prob (F-statistic):</th>  <td>  0.00</td>  \n",
       "</tr>\n",
       "<tr>\n",
       "  <th>Time:</th>                 <td>12:29:12</td>     <th>  Log-Likelihood:    </th> <td> -8559.5</td> \n",
       "</tr>\n",
       "<tr>\n",
       "  <th>No. Observations:</th>      <td>  2000</td>      <th>  AIC:               </th> <td>1.712e+04</td>\n",
       "</tr>\n",
       "<tr>\n",
       "  <th>Df Residuals:</th>          <td>  1998</td>      <th>  BIC:               </th> <td>1.713e+04</td>\n",
       "</tr>\n",
       "<tr>\n",
       "  <th>Df Model:</th>              <td>     2</td>      <th>                     </th>     <td> </td>    \n",
       "</tr>\n",
       "<tr>\n",
       "  <th>Covariance Type:</th>      <td>nonrobust</td>    <th>                     </th>     <td> </td>    \n",
       "</tr>\n",
       "</table>\n",
       "<table class=\"simpletable\">\n",
       "<tr>\n",
       "      <td></td>        <th>coef</th>     <th>std err</th>      <th>t</th>      <th>P>|t|</th>  <th>[0.025</th>    <th>0.975]</th>  \n",
       "</tr>\n",
       "<tr>\n",
       "  <th>exercise</th> <td>    7.7302</td> <td>    0.224</td> <td>   34.521</td> <td> 0.000</td> <td>    7.291</td> <td>    8.169</td>\n",
       "</tr>\n",
       "<tr>\n",
       "  <th>hours</th>    <td>    4.9769</td> <td>    0.063</td> <td>   78.412</td> <td> 0.000</td> <td>    4.852</td> <td>    5.101</td>\n",
       "</tr>\n",
       "</table>\n",
       "<table class=\"simpletable\">\n",
       "<tr>\n",
       "  <th>Omnibus:</th>       <td> 0.614</td> <th>  Durbin-Watson:     </th> <td>   1.852</td>\n",
       "</tr>\n",
       "<tr>\n",
       "  <th>Prob(Omnibus):</th> <td> 0.736</td> <th>  Jarque-Bera (JB):  </th> <td>   0.677</td>\n",
       "</tr>\n",
       "<tr>\n",
       "  <th>Skew:</th>          <td>-0.011</td> <th>  Prob(JB):          </th> <td>   0.713</td>\n",
       "</tr>\n",
       "<tr>\n",
       "  <th>Kurtosis:</th>      <td> 2.913</td> <th>  Cond. No.          </th> <td>    7.11</td>\n",
       "</tr>\n",
       "</table><br/><br/>Warnings:<br/>[1] Standard Errors assume that the covariance matrix of the errors is correctly specified."
      ],
      "text/plain": [
       "<class 'statsmodels.iolib.summary.Summary'>\n",
       "\"\"\"\n",
       "                            OLS Regression Results                            \n",
       "==============================================================================\n",
       "Dep. Variable:                  grade   R-squared:                       0.956\n",
       "Model:                            OLS   Adj. R-squared:                  0.956\n",
       "Method:                 Least Squares   F-statistic:                 2.160e+04\n",
       "Date:                Sat, 13 Jul 2019   Prob (F-statistic):               0.00\n",
       "Time:                        12:29:12   Log-Likelihood:                -8559.5\n",
       "No. Observations:                2000   AIC:                         1.712e+04\n",
       "Df Residuals:                    1998   BIC:                         1.713e+04\n",
       "Df Model:                           2                                         \n",
       "Covariance Type:            nonrobust                                         \n",
       "==============================================================================\n",
       "                 coef    std err          t      P>|t|      [0.025      0.975]\n",
       "------------------------------------------------------------------------------\n",
       "exercise       7.7302      0.224     34.521      0.000       7.291       8.169\n",
       "hours          4.9769      0.063     78.412      0.000       4.852       5.101\n",
       "==============================================================================\n",
       "Omnibus:                        0.614   Durbin-Watson:                   1.852\n",
       "Prob(Omnibus):                  0.736   Jarque-Bera (JB):                0.677\n",
       "Skew:                          -0.011   Prob(JB):                        0.713\n",
       "Kurtosis:                       2.913   Cond. No.                         7.11\n",
       "==============================================================================\n",
       "\n",
       "Warnings:\n",
       "[1] Standard Errors assume that the covariance matrix of the errors is correctly specified.\n",
       "\"\"\""
      ]
     },
     "execution_count": 46,
     "metadata": {},
     "output_type": "execute_result"
    }
   ],
   "source": [
    "# try removing intercept\n",
    "res = smf.ols('grade ~ exercise + hours -1', data=df).fit()\n",
    "res.summary()"
   ]
  },
  {
   "cell_type": "markdown",
   "metadata": {},
   "source": [
    "### Exercise 6:\n",
    "\n",
    "Use the predict function on the training data and the test data."
   ]
  },
  {
   "cell_type": "code",
   "execution_count": 47,
   "metadata": {},
   "outputs": [],
   "source": [
    "# calculate the model using the training data\n",
    "lm.fit(X_train, Y_train)\n",
    "\n",
    "# predictions for training and test data\n",
    "pred_train = lm.predict(X_train)\n",
    "pred_test = lm.predict(X_test)"
   ]
  },
  {
   "cell_type": "code",
   "execution_count": 48,
   "metadata": {},
   "outputs": [
    {
     "name": "stdout",
     "output_type": "stream",
     "text": [
      "0.6877641136697592\n",
      "0.6566059262868752\n"
     ]
    }
   ],
   "source": [
    "# evaluate the accuracy of the model of training vs test\n",
    "print(lm.score(X_train, Y_train))\n",
    "print(lm.score(X_test, Y_test))"
   ]
  },
  {
   "cell_type": "code",
   "execution_count": 49,
   "metadata": {},
   "outputs": [
    {
     "data": {
      "text/plain": [
       "<matplotlib.axes._subplots.AxesSubplot at 0x27819cb3c88>"
      ]
     },
     "execution_count": 49,
     "metadata": {},
     "output_type": "execute_result"
    },
    {
     "data": {
      "image/png": "[encoded data removed]",
      "text/plain": [
       "<Figure size 432x288 with 2 Axes>"
      ]
     },
     "metadata": {
      "needs_background": "light"
     },
     "output_type": "display_data"
    }
   ],
   "source": [
    "# checking correlation heatmap because the training data scores surprised me\n",
    "import seaborn as sns\n",
    "corr = clean.corr()\n",
    "sns.heatmap(corr, vmin = -1,annot = True)"
   ]
  },
  {
   "cell_type": "markdown",
   "metadata": {},
   "source": [
    "### Exercise 7:\n",
    "\n",
    "Calculate the MSE (mean squared error) of the training and test predictions. How \"good\" was the linear regression model at predicting the test data compared to the training data?"
   ]
  },
  {
   "cell_type": "code",
   "execution_count": 22,
   "metadata": {},
   "outputs": [
    {
     "data": {
      "text/plain": [
       "0       -1.331207\n",
       "1       -8.447581\n",
       "2        1.270969\n",
       "3       -9.283516\n",
       "4        4.571587\n",
       "5        5.418882\n",
       "6       -3.132938\n",
       "7        3.022096\n",
       "8        4.483066\n",
       "9        0.332907\n",
       "10      -0.022943\n",
       "11       4.579184\n",
       "12       5.056157\n",
       "13       5.476611\n",
       "14      -0.651267\n",
       "15      -0.860910\n",
       "16      -9.922522\n",
       "17      -3.169596\n",
       "18       3.752616\n",
       "19      -0.646939\n",
       "20       4.012522\n",
       "21      -1.844511\n",
       "22       6.339115\n",
       "23       7.569366\n",
       "24      -7.791730\n",
       "25      -5.691009\n",
       "26       3.453610\n",
       "27       7.367704\n",
       "28       6.617992\n",
       "29      -5.258116\n",
       "          ...    \n",
       "1970    -5.810728\n",
       "1971     2.425706\n",
       "1972     8.824668\n",
       "1973     5.951237\n",
       "1974     7.023333\n",
       "1975     8.016088\n",
       "1976     0.879629\n",
       "1977    10.227121\n",
       "1978     1.266641\n",
       "1979    -3.172563\n",
       "1980     7.825286\n",
       "1981    -7.260020\n",
       "1982     9.872849\n",
       "1983    -7.153067\n",
       "1984    -6.263679\n",
       "1985    -0.981340\n",
       "1986    -3.245901\n",
       "1987     5.637211\n",
       "1988     8.031176\n",
       "1989    -4.231944\n",
       "1990     5.928699\n",
       "1991     9.541266\n",
       "1992     2.398823\n",
       "1993     5.494940\n",
       "1994     5.148784\n",
       "1995    -5.488764\n",
       "1996    -2.318443\n",
       "1997     4.090978\n",
       "1998     3.299021\n",
       "1999     1.993576\n",
       "Name: grade, Length: 1998, dtype: float64"
      ]
     },
     "execution_count": 22,
     "metadata": {},
     "output_type": "execute_result"
    }
   ],
   "source": [
    "'''\n",
    "X_train, X_test, Y_train, Y_test = sklearn.model_selection.train_test_split(\n",
    "    X, clean['grade'], test_size=0.30, random_state = 5)\n",
    "'''\n",
    "lm.predict(X)\n",
    "delta = lm.predict(X) - clean['grade']\n",
    "delta"
   ]
  },
  {
   "cell_type": "code",
   "execution_count": 23,
   "metadata": {},
   "outputs": [],
   "source": [
    "delsquared = delta**2"
   ]
  },
  {
   "cell_type": "code",
   "execution_count": 24,
   "metadata": {},
   "outputs": [],
   "source": [
    "delsqsum = delsquared.sum()"
   ]
  },
  {
   "cell_type": "code",
   "execution_count": 25,
   "metadata": {},
   "outputs": [
    {
     "data": {
      "text/plain": [
       "29.834035080804295"
      ]
     },
     "execution_count": 25,
     "metadata": {},
     "output_type": "execute_result"
    }
   ],
   "source": [
    "meanSquareError = delsqsum / len(delta.index) #1976\n",
    "meanSquareError"
   ]
  },
  {
   "cell_type": "code",
   "execution_count": 26,
   "metadata": {},
   "outputs": [
    {
     "data": {
      "text/plain": [
       "29.834035080804295"
      ]
     },
     "execution_count": 26,
     "metadata": {},
     "output_type": "execute_result"
    }
   ],
   "source": [
    "# apparently there's a method for this???\n",
    "from sklearn.metrics import mean_squared_error as mse\n",
    "y_true = clean['grade']\n",
    "y_pred = lm.predict(X)\n",
    "mse(y_true, y_pred)"
   ]
  },
  {
   "cell_type": "code",
   "execution_count": 27,
   "metadata": {},
   "outputs": [
    {
     "data": {
      "text/plain": [
       "array([ 89.34875773,  88.07342194,  77.23406512,  82.11220535,\n",
       "        84.04940125,  90.95046391,  95.1429711 ,  99.83033519,\n",
       "        89.84361462,  72.97812104,  69.75390231,  74.69399615,\n",
       "        83.88239803,  83.79815478,  89.94866424,  81.23727945,\n",
       "        81.07027623,  74.52699293,  80.15123653,  87.03000955,\n",
       "        77.91969816,  80.48820953,  90.20139398,  83.27952496,\n",
       "        90.61349091,  93.07695267,  70.52229532,  77.15130515,\n",
       "        99.64104233,  79.30008355,  79.02358088,  75.35882283,\n",
       "        95.55506803,  72.2305344 ,  97.59879682,  89.59236816,\n",
       "        98.70267955,  87.63288262,  88.07490522,  83.79815478,\n",
       "        86.53366937,  79.21435702,  93.67982574,  84.98628076,\n",
       "        92.82718948,  82.17415896,  98.70267955,  73.91648383,\n",
       "        77.14982187,  85.84188357,  95.05724457,  85.42830336,\n",
       "        75.18885305,  89.07522162,  84.98776404,  75.37962919,\n",
       "        97.85004329,  75.35733955,  84.23721083,  78.27599424,\n",
       "        95.55358475,  77.17062823,  93.67834246,  96.24685383,\n",
       "        78.53020726,  86.53366937,  91.99239303,  90.09634437,\n",
       "        82.61469829,  83.4703011 ,  88.24042516,  81.92291249,\n",
       "        84.98924731,  88.82100859,  98.87116604,  92.73997967,\n",
       "        76.48499519,  81.34084578,  79.19503394,  99.82885191,\n",
       "        89.92785787,  75.2730963 ,  83.7966715 ,  82.94255197,\n",
       "        83.11252174,  83.27952496,  78.10899102,  81.75442599,\n",
       "        70.08175599,  79.38284352,  86.19966293,  74.93908986,\n",
       "        76.56923844,  90.96978699,  85.92612682,  90.69625088,\n",
       "        85.75615704,  72.37821453,  81.25660253,  95.82712086,\n",
       "        89.15798159,  88.32615169,  90.03142421,  74.52402637,\n",
       "        72.2305344 ,  79.29860027,  87.03000955,  70.5237786 ,\n",
       "        84.07020761,  87.9891787 ,  84.48994058,  81.06730967,\n",
       "        91.30675999,  68.97638999,  79.96194367,  81.92142921,\n",
       "        81.83866924,  85.1770569 ,  84.49142386,  84.40569733,\n",
       "        70.41724571,  76.65199841,  72.20824475,  80.4896928 ,\n",
       "        82.25840221,  86.69451983,  73.5043869 ,  88.41039494,\n",
       "        94.95219496,  72.48178086,  64.4753522 ,  66.60480752,\n",
       "        79.27779391,  93.93107221,  76.12721584,  83.30033132,\n",
       "        93.95336185,  80.5709695 ,  77.83545491,  85.42830336,\n",
       "        76.56775516,  71.71338785,  80.98306643,  81.23727945,\n",
       "        74.25345682,  89.15798159,  85.75615704,  74.42046004,\n",
       "        88.7397319 ,  86.11541968,  85.15625053,  82.77703203,\n",
       "        84.82076082,  74.93908986,  83.7966715 ,  83.88239803,\n",
       "        67.43812069,  67.35387744,  90.03142421,  74.08497032,\n",
       "        76.56775516,  63.35066311,  84.57418383,  79.21435702,\n",
       "        97.68155679,  84.23721083,  75.27457958,  86.69600311,\n",
       "        84.98924731,  84.15296758,  86.69600311,  80.90030646,\n",
       "        94.61522197,  84.15445086,  58.76686535,  75.54811569,\n",
       "        93.93107221,  85.09281365,  93.76258571,  73.91648383,\n",
       "        84.04940125,  89.17878795,  75.46238916,  98.53419305,\n",
       "        97.95360962,  73.06384757,  74.33770007,  84.32145408,\n",
       "        81.83866924,  82.17564224,  78.27599424,  93.09775903,\n",
       "        81.07027623,  66.68905077,  78.94082091,  96.82892053,\n",
       "        71.6291446 ,  78.44299746,  80.402483  ,  76.21145908,\n",
       "        94.20460831,  80.48820953,  79.79494045,  85.84188357,\n",
       "        75.21114269,  82.11220535,  76.12721584,  80.4896928 ,\n",
       "        84.13512778,  83.21608808,  78.61296723,  73.06088101,\n",
       "        91.97158666,  85.84040029,  74.52699293,  84.65227432,\n",
       "        85.84040029,  79.46708677,  70.77354179,  78.44596401,\n",
       "        91.22400002,  75.1046098 ,  73.91648383,  80.2339965 ,\n",
       "        78.94082091,  75.54663241,  90.69625088,  91.30675999,\n",
       "        98.12209612,  86.9457663 ,  83.11103846,  68.29075695,\n",
       "        78.27599424,  78.17094463,  84.90352079,  82.44917835,\n",
       "        70.33448574,  81.06730967,  88.65400537,  87.03000955,\n",
       "        89.76085466,  87.21930241,  90.28712051,  93.67834246,\n",
       "        75.21114269,  78.85806094,  81.59357553,  71.18860528,\n",
       "        91.05403024,  68.97638999,  69.06063324, 102.12531045,\n",
       "        81.59357553,  80.31823975,  85.92612682,  78.94230419,\n",
       "        90.61349091,  84.65227432,  84.90352079,  74.33621679,\n",
       "        80.15123653,  83.19528171,  68.31156331,  77.06409534,\n",
       "        76.65199841,  90.86770394,  82.17415896,  80.57245277,\n",
       "        74.25197354,  83.4703011 ,  89.92934115,  91.30824327,\n",
       "        92.24363949,  87.30354566,  83.4703011 ,  79.02506416,\n",
       "       101.95682395,  88.49315491,  92.075153  ,  83.79815478,\n",
       "        83.55306107, 102.0410672 ,  97.59879682,  84.81779426,\n",
       "        68.2065137 ,  68.8982995 ,  84.15445086,  81.34232906,\n",
       "        80.48672625,  86.94724958,  91.22251674,  81.92142921,\n",
       "        78.93933764,  82.09139899,  74.69251287,  82.17564224,\n",
       "        74.27277991,  83.21757135,  70.43805207,  90.03439076,\n",
       "        70.41872899,  98.03785287,  97.93428654,  83.96664128,\n",
       "        80.0476702 ,  76.48499519,  88.07193867,  76.23374873,\n",
       "        80.48820953,  72.89536107,  91.03470716,  96.24685383,\n",
       "        77.42335798,  93.18200228,  92.93075581,  82.08991571,\n",
       "        76.56775516,  84.98776404,  86.77876308,  90.20139398,\n",
       "        71.3556085 ,  93.95336185,  72.89536107,  77.40106834,\n",
       "        77.14833859,  83.11252174,  71.71338785,  79.46708677,\n",
       "        90.20287726,  86.86448961,  91.97158666,  83.02827849,\n",
       "        79.36055388,  89.92934115,  87.79988583,  90.69625088,\n",
       "        74.33621679,  80.40544956,  87.38927218,  66.68905077,\n",
       "        92.24363949,  93.76406899,  83.55306107,  73.48209726,\n",
       "        63.43490636,  71.18860528,  74.33621679,  95.90988083,\n",
       "        77.5903612 ,  88.73824862,  82.3649351 ,  96.74467728,\n",
       "        91.99090975,  94.12184834,  85.2390105 ,  86.7772798 ,\n",
       "        95.89055775,  84.65227432,  90.1999107 ,  78.94082091,\n",
       "        72.292488  ,  67.79441677,  94.78519174,  74.60826962,\n",
       "        93.67834246,  78.17242791,  82.25840221,  86.53366937,\n",
       "        78.25667115,  77.4218747 ,  72.04124153,  99.47255583,\n",
       "        70.43953535,  92.8257062 ,  79.10930741,  86.19966293,\n",
       "        64.64532198,  95.72207125,  82.28069185,  85.94693318,\n",
       "        84.07169089,  81.75442599,  75.37814591,  74.00072708,\n",
       "        77.33911473,  77.17062823,  76.56923844,  92.90846617,\n",
       "        85.34554339,  77.14982187,  77.17062823,  79.38284352,\n",
       "        77.5903612 ,  83.98744764,  84.04940125,  91.90814978,\n",
       "        96.82892053,  73.42014365,  77.17062823,  83.19676499,\n",
       "        94.11888179,  80.32120631,  89.86590427,  67.54020375,\n",
       "        76.40075195,  84.15593414,  90.11566746,  84.40866389,\n",
       "        85.07200728,  91.39100324,  72.20972803,  76.56775516,\n",
       "        76.23226545,  81.83866924,  90.1999107 ,  83.11400502,\n",
       "        73.31657732,  86.11541968,  81.07027623,  85.15625053,\n",
       "        85.75764032,  80.23547978,  67.79293349,  69.99751274,\n",
       "        94.78667502,  98.45143308,  69.39760623,  73.14660754,\n",
       "        78.5272407 ,  85.42978664,  83.30033132,  98.78692279,\n",
       "        93.67834246,  73.9992438 ,  79.10930741,  81.17235929,\n",
       "        91.05403024,  92.07811955,  68.64853631,  75.10757636,\n",
       "        91.30675999,  90.20287726,  84.04940125,  81.83718596,\n",
       "        71.27136525,  94.89024135,  73.33441712,  89.94866424,\n",
       "        83.02679522,  99.99733841,  84.32293736,  79.27779391,\n",
       "        89.84361462,  78.00245813,  89.34727445,  86.94873286,\n",
       "        82.0279621 ,  80.40544956,  77.23406512,  83.02976177,\n",
       "        93.18200228,  74.43978312,  88.65400537,  92.57297645,\n",
       "        85.17557362,  84.23721083,  86.1139364 ,  85.51254661,\n",
       "        85.67339707,  78.53020726,  83.79815478,  76.04297259,\n",
       "        96.57470751,  71.95699829,  79.19503394,  76.48647847,\n",
       "        69.50117257,  94.12036507,  68.48004981,  79.38284352,\n",
       "        89.84658118,  79.21287374,  82.17564224,  88.99097837,\n",
       "        87.96985561,  72.97812104,  83.71391153,  90.03290749,\n",
       "        88.24339172,  86.61175986,  81.42508903,  81.17384256,\n",
       "        92.07663628,  81.07027623,  74.44274968,  80.4896928 ,\n",
       "        82.36345182,  86.02969315,  81.08959932,  69.83666228,\n",
       "        92.84651256,  81.25808581,  70.93587553,  88.65548865,\n",
       "        76.3165087 ,  88.5712454 ,  81.08959932,  66.51759771,\n",
       "        90.53073094,  82.44917835,  80.98306643,  80.48820953,\n",
       "        89.95014752,  95.89204103,  88.41039494,  96.24685383,\n",
       "        97.01673011,  80.0476702 ,  81.1530362 ,  75.19181961,\n",
       "        80.2161567 ,  82.19348204,  71.29217161,  80.73330324,\n",
       "        70.52081204,  78.19175099,  81.59357553,  90.45264045,\n",
       "        82.36196854,  79.55133002,  89.75937138,  86.94873286,\n",
       "        72.20824475,  86.00888679,  76.21145908,  88.73676534,\n",
       "        76.97985209,  80.57245277,  87.88412908,  90.61349091,\n",
       "        72.97960432,  82.19348204,  97.86936637,  74.93908986,\n",
       "        72.64878408,  76.40223522,  69.4803662 ,  94.20312504,\n",
       "        80.5709695 ,  76.40223522,  80.29891666,  84.57418383,\n",
       "        80.31823975,  85.34406011,  77.67460445,  77.83693819,\n",
       "        78.35875421,  81.25808581,  80.0476702 ,  68.12227045,\n",
       "        85.25981687,  69.50117257,  70.16599924,  98.20633937,\n",
       "        70.6922651 ,  79.10930741,  83.96664128,  70.60653857,\n",
       "        66.60480752, 102.45316413,  85.15476725,  75.37814591,\n",
       "        82.11072207,  92.73997967,  88.73824862,  80.90030646,\n",
       "        88.24042516,  84.40569733,  93.59558249,  74.6097529 ,\n",
       "        87.90641873,  99.72676886,  71.10436203,  82.17415896,\n",
       "        74.33770007,  84.15593414,  70.35380882,  91.97158666,\n",
       "        82.36196854,  89.76085466,  78.27599424,  70.60802185,\n",
       "        87.19849604,  88.65548865,  87.05081591,  97.76580004,\n",
       "        71.43836847,  85.26130014,  76.21145908,  85.26130014])"
      ]
     },
     "execution_count": 27,
     "metadata": {},
     "output_type": "execute_result"
    }
   ],
   "source": [
    "lm.predict(X_test)"
   ]
  }
 ],
 "metadata": {
  "kernelspec": {
   "display_name": "Python 3",
   "language": "python",
   "name": "python3"
  },
  "language_info": {
   "codemirror_mode": {
    "name": "ipython",
    "version": 3
   },
   "file_extension": ".py",
   "mimetype": "text/x-python",
   "name": "python",
   "nbconvert_exporter": "python",
   "pygments_lexer": "ipython3",
   "version": "3.7.3"
  }
 },
 "nbformat": 4,
 "nbformat_minor": 2
}
